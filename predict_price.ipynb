{
 "cells": [
  {
   "cell_type": "code",
   "execution_count": 109,
   "metadata": {},
   "outputs": [],
   "source": [
    "import psycopg2\n",
    "import numpy as np"
   ]
  },
  {
   "cell_type": "code",
   "execution_count": 9,
   "metadata": {},
   "outputs": [],
   "source": [
    "conn = psycopg2.connect(database=\"curtis\",\n",
    "                        user=\"curtis\",\n",
    "                        password=\"apassword\",\n",
    "                        host=\"localhost\")\n",
    "conn.autocommit = True\n",
    "cur = conn.cursor()"
   ]
  },
  {
   "cell_type": "code",
   "execution_count": 91,
   "metadata": {},
   "outputs": [],
   "source": [
    "query = \"\"\"SELECT specs ->> 'url' AS url,\n",
    "                  specs ->> 'color' AS color,\n",
    "                  jsonb_array_elements_text(specs -> 'memory') AS memory,\n",
    "                  specs ->> 'screen' AS screen,\n",
    "                  jsonb_array_elements_text(specs -> 'storage') AS storage,\n",
    "                  (specs ->> 'price')::float AS price\n",
    "            FROM mac_refurb\n",
    "            WHERE LOWER(specs ->> 'url') LIKE '%macbook-pro%' AND\n",
    "                  specs ->> 'date' LIKE '%2018'\n",
    "\"\"\""
   ]
  },
  {
   "cell_type": "code",
   "execution_count": 92,
   "metadata": {},
   "outputs": [],
   "source": [
    "cur.execute(query)"
   ]
  },
  {
   "cell_type": "code",
   "execution_count": 93,
   "metadata": {},
   "outputs": [],
   "source": [
    "keys = ['url', 'color', 'memory', 'screen', 'storage', 'price']\n",
    "raw = [dict(zip(keys, line)) for line in cur]"
   ]
  },
  {
   "cell_type": "code",
   "execution_count": 94,
   "metadata": {},
   "outputs": [
    {
     "data": {
      "text/plain": [
       "{'url': 'https://www.apple.com/shop/product/FR9U2LL/A/Refurbished-133-inch-MacBook-Pro-23GHz-quad-core-Intel-Core-i5-with-Retina-display-Silver',\n",
       " 'color': 'silver',\n",
       " 'memory': '8gb of 2133mhz lpddr3 onboard memory',\n",
       " 'screen': '13.3-inch (diagonal) led-backlit display with ips technology; 2560-by-1600 native resolution at 227 pixels per inch',\n",
       " 'storage': '256gb ssd 1',\n",
       " 'price': 1489.0}"
      ]
     },
     "execution_count": 94,
     "metadata": {},
     "output_type": "execute_result"
    }
   ],
   "source": [
    "raw[0]"
   ]
  },
  {
   "cell_type": "code",
   "execution_count": 95,
   "metadata": {},
   "outputs": [],
   "source": [
    "def clean_screen(item):\n",
    "    if '13.3' in item:\n",
    "        return '13inch'\n",
    "    elif '15.4' in item:\n",
    "        return '15inch'\n",
    "    else:\n",
    "        return \"N/A\""
   ]
  },
  {
   "cell_type": "code",
   "execution_count": 96,
   "metadata": {},
   "outputs": [],
   "source": [
    "def clean_storage(item):\n",
    "    if '256gb' in item:\n",
    "        return '256GB'\n",
    "    elif '512gb' in item:\n",
    "        return '512MB'\n",
    "    elif '1tb' in item:\n",
    "        return '1TB'\n",
    "    elif '2tb' in item:\n",
    "        return '2TB'\n",
    "    elif '4tb' in item:\n",
    "        return '4TB'\n",
    "    else:\n",
    "        return \"N/A\""
   ]
  },
  {
   "cell_type": "code",
   "execution_count": 122,
   "metadata": {},
   "outputs": [],
   "source": [
    "clean = []\n",
    "for line in raw:\n",
    "    row = {\n",
    "        'color': line['color'],\n",
    "        'screen': clean_screen(line['screen']),\n",
    "        'storage': clean_storage(line['storage']),\n",
    "        'price': line['price']\n",
    "    }\n",
    "    clean.append(row)"
   ]
  },
  {
   "cell_type": "code",
   "execution_count": 123,
   "metadata": {},
   "outputs": [
    {
     "data": {
      "text/plain": [
       "{'color': 'silver', 'screen': '13inch', 'storage': '256GB', 'price': 1489.0}"
      ]
     },
     "execution_count": 123,
     "metadata": {},
     "output_type": "execute_result"
    }
   ],
   "source": [
    "clean[0]"
   ]
  },
  {
   "cell_type": "code",
   "execution_count": 124,
   "metadata": {},
   "outputs": [],
   "source": [
    "def one_hot(data, key):\n",
    "    \n",
    "    values = set([line[key] for line in data])\n",
    "    \n",
    "    for line in data:\n",
    "        for value in values:\n",
    "            if line[key] == value:\n",
    "                line[key + \"_\" + value] = 1\n",
    "            else:\n",
    "                line[key + \"_\" + value] = 0\n",
    "                \n",
    "        del(line[key])\n",
    "    \n",
    "    return data"
   ]
  },
  {
   "cell_type": "code",
   "execution_count": 125,
   "metadata": {},
   "outputs": [],
   "source": [
    "new = one_hot(clean, 'screen')\n",
    "new = one_hot(new, 'color')\n",
    "new = one_hot(new, 'storage')"
   ]
  },
  {
   "cell_type": "code",
   "execution_count": 126,
   "metadata": {},
   "outputs": [
    {
     "data": {
      "text/plain": [
       "{'price': 1489.0,\n",
       " 'screen_15inch': 0,\n",
       " 'screen_13inch': 1,\n",
       " 'color_space-gray': 0,\n",
       " 'color_silver': 1,\n",
       " 'storage_1TB': 0,\n",
       " 'storage_4TB': 0,\n",
       " 'storage_2TB': 0,\n",
       " 'storage_512MB': 0,\n",
       " 'storage_256GB': 1}"
      ]
     },
     "execution_count": 126,
     "metadata": {},
     "output_type": "execute_result"
    }
   ],
   "source": [
    "new[0]"
   ]
  },
  {
   "cell_type": "code",
   "execution_count": 138,
   "metadata": {},
   "outputs": [],
   "source": [
    "x = []\n",
    "y = []\n",
    "for line in new:\n",
    "    nums = []\n",
    "    for key in line.keys():\n",
    "        if key == 'price':\n",
    "            y.append(line[key])\n",
    "        else:\n",
    "            nums.append(line[key])\n",
    "    x.append(np.array(nums))\n",
    "    \n",
    "x = np.array(x)\n",
    "y = np.array(y)"
   ]
  },
  {
   "cell_type": "code",
   "execution_count": 139,
   "metadata": {},
   "outputs": [
    {
     "data": {
      "text/plain": [
       "array([1489., 1489., 1659., 1659., 1739., 1909., 1999., 1999., 1999.,\n",
       "       1999., 2169., 2169., 2169., 2249., 2289., 2339., 2289., 2339.,\n",
       "       2339., 2419., 2419., 2509., 2509., 2509., 2509., 2509., 2509.,\n",
       "       2549., 2629., 2629., 2679., 2759., 2759., 2849., 2849., 2849.,\n",
       "       2849., 2849., 2849., 2849., 2849., 2889., 2929., 2889., 2889.,\n",
       "       2929., 2889., 2929., 2929., 2969., 2969., 3099., 3139., 3139.,\n",
       "       3189., 3189., 3189., 3229., 3229., 3269., 3399., 3439., 3439.,\n",
       "       3439., 3479., 3479., 3529., 3529., 3699., 3739., 3739., 4039.,\n",
       "       5009., 5009., 5269., 5269., 5569., 5569., 2079., 2509., 2509.,\n",
       "       2759., 3359., 3399., 3439., 2169., 1659., 1659., 4669., 2419.,\n",
       "       1829., 1829., 2549., 1909., 1909., 2079., 2249., 3269., 3359.,\n",
       "       1999., 2339., 2509., 2589., 2589., 2589., 2629., 2629., 2849.,\n",
       "       2849., 2249., 2249., 2339., 2339., 3099., 3189., 2459., 2079.,\n",
       "       2929., 2679., 2679., 2679., 2419., 2759., 2589., 2799., 2799.,\n",
       "       2679., 2799., 2589., 3949., 3019., 3059., 3059., 2679., 3019.,\n",
       "       3019., 3059., 3269., 3269., 3139., 2929., 3359., 2929., 2929.,\n",
       "       3359., 3019., 3609., 3609., 3699., 3189., 3359., 3819., 3699.,\n",
       "       3949., 3819., 4079., 4079., 4379., 4379., 1829., 2459.])"
      ]
     },
     "execution_count": 139,
     "metadata": {},
     "output_type": "execute_result"
    }
   ],
   "source": [
    "y"
   ]
  },
  {
   "cell_type": "code",
   "execution_count": 140,
   "metadata": {},
   "outputs": [
    {
     "data": {
      "text/plain": [
       "array([[0, 1, 0, ..., 0, 0, 1],\n",
       "       [0, 1, 1, ..., 0, 0, 1],\n",
       "       [0, 1, 1, ..., 0, 1, 0],\n",
       "       ...,\n",
       "       [1, 0, 0, ..., 0, 0, 0],\n",
       "       [0, 1, 1, ..., 0, 0, 0],\n",
       "       [1, 0, 1, ..., 0, 0, 0]])"
      ]
     },
     "execution_count": 140,
     "metadata": {},
     "output_type": "execute_result"
    }
   ],
   "source": [
    "x"
   ]
  },
  {
   "cell_type": "code",
   "execution_count": 152,
   "metadata": {},
   "outputs": [],
   "source": [
    "from sklearn.linear_model import LinearRegression\n",
    "from sklearn.metrics import mean_squared_error, r2_score"
   ]
  },
  {
   "cell_type": "code",
   "execution_count": 147,
   "metadata": {},
   "outputs": [],
   "source": [
    "fit = LinearRegression().fit(x, y)"
   ]
  },
  {
   "cell_type": "code",
   "execution_count": 148,
   "metadata": {},
   "outputs": [
    {
     "data": {
      "text/plain": [
       "0.8214036939258825"
      ]
     },
     "execution_count": 148,
     "metadata": {},
     "output_type": "execute_result"
    }
   ],
   "source": [
    "fit.score(x, y)"
   ]
  },
  {
   "cell_type": "code",
   "execution_count": 150,
   "metadata": {},
   "outputs": [],
   "source": [
    "y_pred = fit.predict(x)"
   ]
  },
  {
   "cell_type": "code",
   "execution_count": 153,
   "metadata": {},
   "outputs": [
    {
     "data": {
      "text/plain": [
       "104807.75776397515"
      ]
     },
     "execution_count": 153,
     "metadata": {},
     "output_type": "execute_result"
    }
   ],
   "source": [
    "mean_squared_error(y, y_pred)"
   ]
  },
  {
   "cell_type": "code",
   "execution_count": 154,
   "metadata": {},
   "outputs": [
    {
     "data": {
      "text/plain": [
       "0.8214036939258825"
      ]
     },
     "execution_count": 154,
     "metadata": {},
     "output_type": "execute_result"
    }
   ],
   "source": [
    "r2_score(y, y_pred)"
   ]
  },
  {
   "cell_type": "code",
   "execution_count": 155,
   "metadata": {},
   "outputs": [],
   "source": [
    "import pickle"
   ]
  },
  {
   "cell_type": "code",
   "execution_count": 157,
   "metadata": {},
   "outputs": [],
   "source": [
    "s = pickle.dumps(fit)"
   ]
  },
  {
   "cell_type": "code",
   "execution_count": 158,
   "metadata": {},
   "outputs": [],
   "source": [
    "fit2 = pickle.loads(s)"
   ]
  },
  {
   "cell_type": "code",
   "execution_count": 159,
   "metadata": {},
   "outputs": [
    {
     "data": {
      "text/plain": [
       "array([1616., 1648., 1920., 1888., 1648., 1648., 2208., 2408., 2384.,\n",
       "       2176.])"
      ]
     },
     "execution_count": 159,
     "metadata": {},
     "output_type": "execute_result"
    }
   ],
   "source": [
    "fit2.predict(x[:10])"
   ]
  },
  {
   "cell_type": "code",
   "execution_count": null,
   "metadata": {},
   "outputs": [],
   "source": []
  }
 ],
 "metadata": {
  "kernelspec": {
   "display_name": "Python 3",
   "language": "python",
   "name": "python3"
  },
  "language_info": {
   "codemirror_mode": {
    "name": "ipython",
    "version": 3
   },
   "file_extension": ".py",
   "mimetype": "text/x-python",
   "name": "python",
   "nbconvert_exporter": "python",
   "pygments_lexer": "ipython3",
   "version": "3.7.3"
  }
 },
 "nbformat": 4,
 "nbformat_minor": 2
}
