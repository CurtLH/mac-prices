{
 "cells": [
  {
   "cell_type": "code",
   "execution_count": 1,
   "metadata": {},
   "outputs": [],
   "source": [
    "import psycopg2"
   ]
  },
  {
   "cell_type": "code",
   "execution_count": 27,
   "metadata": {},
   "outputs": [],
   "source": [
    "conn = psycopg2.connect(database=\"curtis\",\n",
    "                        user=\"curtis\",\n",
    "                        password=\"apassword\",\n",
    "                        host=\"localhost\")\n",
    "conn.autocommit = True\n",
    "cur = conn.cursor()"
   ]
  },
  {
   "cell_type": "code",
   "execution_count": 28,
   "metadata": {},
   "outputs": [],
   "source": [
    "query = \"\"\"SELECT specs ->> 'url' AS url,\n",
    "                  specs ->> 'color' AS color,\n",
    "                  jsonb_array_elements_text(specs -> 'memory') AS memory,\n",
    "                  specs ->> 'screen' AS screen,\n",
    "                  jsonb_array_elements_text(specs -> 'storage') AS storage,\n",
    "                  (specs ->> 'price')::float AS price\n",
    "            FROM mac_refurb\n",
    "            WHERE LOWER(specs ->> 'url') LIKE '%macbook-pro%' AND\n",
    "                  specs ->> 'date' LIKE '%2018'\n",
    "\"\"\""
   ]
  },
  {
   "cell_type": "code",
   "execution_count": 29,
   "metadata": {},
   "outputs": [],
   "source": [
    "cur.execute(query)"
   ]
  },
  {
   "cell_type": "code",
   "execution_count": 30,
   "metadata": {},
   "outputs": [],
   "source": [
    "keys = ['url', 'color', 'memory', 'screen', 'storage', 'price']\n",
    "raw = [dict(zip(keys, line)) for line in cur]"
   ]
  },
  {
   "cell_type": "code",
   "execution_count": 31,
   "metadata": {},
   "outputs": [
    {
     "data": {
      "text/plain": [
       "{'url': 'https://www.apple.com/shop/product/FR9U2LL/A/Refurbished-133-inch-MacBook-Pro-23GHz-quad-core-Intel-Core-i5-with-Retina-display-Silver',\n",
       " 'color': 'silver',\n",
       " 'memory': '8gb of 2133mhz lpddr3 onboard memory',\n",
       " 'screen': '13.3-inch (diagonal) led-backlit display with ips technology; 2560-by-1600 native resolution at 227 pixels per inch',\n",
       " 'storage': '256gb ssd 1',\n",
       " 'price': 1489.0}"
      ]
     },
     "execution_count": 31,
     "metadata": {},
     "output_type": "execute_result"
    }
   ],
   "source": [
    "raw[0]"
   ]
  },
  {
   "cell_type": "code",
   "execution_count": null,
   "metadata": {},
   "outputs": [],
   "source": []
  }
 ],
 "metadata": {
  "kernelspec": {
   "display_name": "Python 3",
   "language": "python",
   "name": "python3"
  },
  "language_info": {
   "codemirror_mode": {
    "name": "ipython",
    "version": 3
   },
   "file_extension": ".py",
   "mimetype": "text/x-python",
   "name": "python",
   "nbconvert_exporter": "python",
   "pygments_lexer": "ipython3",
   "version": "3.7.3"
  }
 },
 "nbformat": 4,
 "nbformat_minor": 2
}
